{
 "cells": [
  {
   "cell_type": "code",
   "execution_count": 1,
   "id": "c949b3dc-a76f-4ac9-94ef-e3091a2d4185",
   "metadata": {},
   "outputs": [
    {
     "name": "stdout",
     "output_type": "stream",
     "text": [
      "Requirement already satisfied: pyautogui in c:\\users\\manish\\anaconda3\\lib\\site-packages (0.9.54)\n",
      "Requirement already satisfied: pymsgbox in c:\\users\\manish\\anaconda3\\lib\\site-packages (from pyautogui) (1.0.9)\n",
      "Requirement already satisfied: pytweening>=1.0.4 in c:\\users\\manish\\anaconda3\\lib\\site-packages (from pyautogui) (1.2.0)\n",
      "Requirement already satisfied: pyscreeze>=0.1.21 in c:\\users\\manish\\anaconda3\\lib\\site-packages (from pyautogui) (1.0.1)\n",
      "Requirement already satisfied: pygetwindow>=0.0.5 in c:\\users\\manish\\anaconda3\\lib\\site-packages (from pyautogui) (0.0.9)\n",
      "Requirement already satisfied: mouseinfo in c:\\users\\manish\\anaconda3\\lib\\site-packages (from pyautogui) (0.1.3)\n",
      "Requirement already satisfied: pyrect in c:\\users\\manish\\anaconda3\\lib\\site-packages (from pygetwindow>=0.0.5->pyautogui) (0.2.0)\n",
      "Requirement already satisfied: pyperclip in c:\\users\\manish\\anaconda3\\lib\\site-packages (from mouseinfo->pyautogui) (1.9.0)\n"
     ]
    }
   ],
   "source": [
    "!pip install pyautogui\n"
   ]
  },
  {
   "cell_type": "code",
   "execution_count": 2,
   "id": "7a10f66b-dac3-4ac3-a6ee-527c0aacd810",
   "metadata": {},
   "outputs": [
    {
     "name": "stdout",
     "output_type": "stream",
     "text": [
      "Requirement already satisfied: pynput in c:\\users\\manish\\anaconda3\\lib\\site-packages (1.7.7)\n",
      "Requirement already satisfied: six in c:\\users\\manish\\anaconda3\\lib\\site-packages (from pynput) (1.16.0)\n"
     ]
    }
   ],
   "source": [
    "!pip install pynput"
   ]
  },
  {
   "cell_type": "code",
   "execution_count": 3,
   "id": "0315c2c4-eff5-4218-982d-dcec1b4ee81d",
   "metadata": {},
   "outputs": [
    {
     "name": "stdout",
     "output_type": "stream",
     "text": [
      "Requirement already satisfied: mediapipe in c:\\users\\manish\\appdata\\roaming\\python\\python312\\site-packages (0.10.14)\n",
      "Requirement already satisfied: absl-py in c:\\users\\manish\\appdata\\roaming\\python\\python312\\site-packages (from mediapipe) (2.1.0)\n",
      "Requirement already satisfied: attrs>=19.1.0 in c:\\users\\manish\\anaconda3\\lib\\site-packages (from mediapipe) (23.1.0)\n",
      "Requirement already satisfied: flatbuffers>=2.0 in c:\\users\\manish\\anaconda3\\lib\\site-packages (from mediapipe) (24.3.25)\n",
      "Requirement already satisfied: jax in c:\\users\\manish\\appdata\\roaming\\python\\python312\\site-packages (from mediapipe) (0.4.33)\n",
      "Requirement already satisfied: jaxlib in c:\\users\\manish\\appdata\\roaming\\python\\python312\\site-packages (from mediapipe) (0.4.33)\n",
      "Requirement already satisfied: matplotlib in c:\\users\\manish\\anaconda3\\lib\\site-packages (from mediapipe) (3.8.4)\n",
      "Requirement already satisfied: numpy in c:\\users\\manish\\anaconda3\\lib\\site-packages (from mediapipe) (1.26.4)\n",
      "Requirement already satisfied: opencv-contrib-python in c:\\users\\manish\\appdata\\roaming\\python\\python312\\site-packages (from mediapipe) (4.10.0.84)\n",
      "Requirement already satisfied: protobuf<5,>=4.25.3 in c:\\users\\manish\\anaconda3\\lib\\site-packages (from mediapipe) (4.25.5)\n",
      "Requirement already satisfied: sounddevice>=0.4.4 in c:\\users\\manish\\appdata\\roaming\\python\\python312\\site-packages (from mediapipe) (0.5.0)\n",
      "Requirement already satisfied: CFFI>=1.0 in c:\\users\\manish\\anaconda3\\lib\\site-packages (from sounddevice>=0.4.4->mediapipe) (1.16.0)\n",
      "Requirement already satisfied: ml-dtypes>=0.2.0 in c:\\users\\manish\\appdata\\roaming\\python\\python312\\site-packages (from jax->mediapipe) (0.5.0)\n",
      "Requirement already satisfied: opt-einsum in c:\\users\\manish\\anaconda3\\lib\\site-packages (from jax->mediapipe) (3.4.0)\n",
      "Requirement already satisfied: scipy>=1.10 in c:\\users\\manish\\anaconda3\\lib\\site-packages (from jax->mediapipe) (1.13.1)\n",
      "Requirement already satisfied: contourpy>=1.0.1 in c:\\users\\manish\\anaconda3\\lib\\site-packages (from matplotlib->mediapipe) (1.2.0)\n",
      "Requirement already satisfied: cycler>=0.10 in c:\\users\\manish\\anaconda3\\lib\\site-packages (from matplotlib->mediapipe) (0.11.0)\n",
      "Requirement already satisfied: fonttools>=4.22.0 in c:\\users\\manish\\anaconda3\\lib\\site-packages (from matplotlib->mediapipe) (4.51.0)\n",
      "Requirement already satisfied: kiwisolver>=1.3.1 in c:\\users\\manish\\anaconda3\\lib\\site-packages (from matplotlib->mediapipe) (1.4.4)\n",
      "Requirement already satisfied: packaging>=20.0 in c:\\users\\manish\\anaconda3\\lib\\site-packages (from matplotlib->mediapipe) (23.2)\n",
      "Requirement already satisfied: pillow>=8 in c:\\users\\manish\\anaconda3\\lib\\site-packages (from matplotlib->mediapipe) (10.3.0)\n",
      "Requirement already satisfied: pyparsing>=2.3.1 in c:\\users\\manish\\anaconda3\\lib\\site-packages (from matplotlib->mediapipe) (3.0.9)\n",
      "Requirement already satisfied: python-dateutil>=2.7 in c:\\users\\manish\\anaconda3\\lib\\site-packages (from matplotlib->mediapipe) (2.9.0.post0)\n",
      "Requirement already satisfied: pycparser in c:\\users\\manish\\anaconda3\\lib\\site-packages (from CFFI>=1.0->sounddevice>=0.4.4->mediapipe) (2.21)\n",
      "Requirement already satisfied: six>=1.5 in c:\\users\\manish\\anaconda3\\lib\\site-packages (from python-dateutil>=2.7->matplotlib->mediapipe) (1.16.0)\n"
     ]
    }
   ],
   "source": [
    "!pip install mediapipe\n",
    "import random\n",
    "import cv2\n",
    "import mediapipe as mp\n",
    "import util\n",
    "from pynput.mouse import Button,Controller\n",
    "mouse=Controller()\n",
    "\n",
    "\n"
   ]
  },
  {
   "cell_type": "code",
   "execution_count": 4,
   "id": "682fd926-69b2-4a59-b74e-7c9c96cbf5f6",
   "metadata": {},
   "outputs": [],
   "source": [
    "import pyautogui\n",
    "screen_width, screen_height = pyautogui.size()\n",
    "mpHands = mp.solutions.hands\n",
    "mpDraw = mp.solutions.drawing_utils\n",
    "hands = mpHands.Hands(\n",
    "    static_image_mode=False,\n",
    "    model_complexity=1,\n",
    "    min_detection_confidence = 0.7,\n",
    "    min_tracking_confidence=0.7,\n",
    "    max_num_hands = 1\n",
    ")"
   ]
  },
  {
   "cell_type": "code",
   "execution_count": 5,
   "id": "a09a03c4-d891-4b07-806c-6a27e235a8f2",
   "metadata": {},
   "outputs": [],
   "source": [
    "def find_finger_tip(processed):\n",
    "    if processed.multi_hand_landmarks:\n",
    "        hand_landmarks = processed.multi_hand_landmarks[0]\n",
    "        return hand_landmarks.landmark[mpHands.HandLandmark.INDEX_FINGER_TIP]\n",
    "    return None\n",
    "        "
   ]
  },
  {
   "cell_type": "code",
   "execution_count": 6,
   "id": "c7de3e70-62a3-4ea7-aa12-0c3d1a09324f",
   "metadata": {},
   "outputs": [],
   "source": [
    "def move_mouse(index_finger_tip):\n",
    "    if index_finger_tip is not None:\n",
    "        x=int(index_finger_tip.x * screen_width)\n",
    "        y=int(index_finger_tip.y * screen_height)\n",
    "        pyautogui.moveTo(x,y)\n",
    "        "
   ]
  },
  {
   "cell_type": "code",
   "execution_count": 7,
   "id": "609eedd0-58f6-480d-b938-55cfdde8dcca",
   "metadata": {},
   "outputs": [],
   "source": [
    "def is_left_click(landmarks_list,thumb_index_dist):\n",
    "    return(util.get_angle(landmarks_list[5],landmarks_list[6],landmarks_list[8])<50 and\n",
    "           util.get_angle(landmarks_list[9],landmarks_list[10],landmarks_list[12])>90 and\n",
    "           thumb_index_dist>50\n",
    "          )\n",
    "def is_right_click(landmark_list,thumb_index_dist):\n",
    "    return(util.get_angle(landmark_list[9],landmark_list[10],landmark_list[12])<50 and\n",
    "           util.get_angle(landmark_list[5],landmark_list[6],landmark_list[8])>90 and\n",
    "           thumb_index_dist>50\n",
    "          )\n",
    "def is_double_click(landmark_list,thumb_index_dist):\n",
    "    return(util.get_angle(landmark_list[5],landmark_list[6],landmark_list[8])<50 and\n",
    "           util.get_angle(landmark_list[9],landmark_list[10],landmark_list[12])<50 and\n",
    "           thumb_index_dist>50\n",
    "          )\n",
    "def is_screenshot(landmark_list,thumb_index_dist):\n",
    "    return(util.get_angle(landmark_list[5],landmark_list[6],landmark_list[8])<50 and\n",
    "           util.get_angle(landmark_list[9],landmark_list[10],landmark_list[12])<50 and\n",
    "           thumb_index_dist<50\n",
    "          )\n",
    "    "
   ]
  },
  {
   "cell_type": "code",
   "execution_count": 8,
   "id": "8f850e46-1189-44c7-aac6-43fc748be2b1",
   "metadata": {},
   "outputs": [],
   "source": [
    "def detect_gestures(frame,landmarks_list,processed):\n",
    "    if len(landmarks_list)>=21:\n",
    "        index_finger_tip=find_finger_tip(processed)\n",
    "        thumb_index_dist=util.get_distance([landmarks_list[4],landmarks_list[5]])\n",
    "        if thumb_index_dist < 50 and util.get_angle(landmarks_list[5],landmarks_list[6],landmarks_list[8])> 90 :\n",
    "            move_mouse(index_finger_tip)\n",
    "        #LEFT CLICK\n",
    "        elif is_left_click(landmarks_list,thumb_index_dist):\n",
    "            mouse.press(Button.left)\n",
    "            mouse.release(Button.left)\n",
    "            cv2.putText(frame,\"Left Click\",(50,50),cv2.FONT_HERSHEY_SIMPLEX,1,(0,255,0),2)\n",
    "\n",
    "        #RIGHT CLICK\n",
    "        elif is_right_click(landmarks_list,thumb_index_dist):\n",
    "            mouse.press(Button.right)\n",
    "            mouse.release(Button.right)\n",
    "            cv2.putText(frame,\"Right Click\",(50,50),cv2.FONT_HERSHEY_SIMPLEX,1,(0,0,255),2)\n",
    "\n",
    "            \n",
    "        #DOUBLE CLICK\n",
    "        elif is_left_click(landmarks_list,thumb_index_dist):\n",
    "            pyautogui.doubleClick()\n",
    "            cv2.putText(frame,\"Double Click\",(50,50),cv2.FONT_HERSHEY_SIMPLEX<1,(255,255,0),2)\n",
    "        #SCREENSHOT\n",
    "        elif is_screenshot(landmarks_list,thumb_index_dist):\n",
    "            iml=pyautogui.screenshot()\n",
    "            label=random.randint(1,1000)\n",
    "            iml.save(f'my_screenshot_{label}.png')\n",
    "            cv2.putText(frame,\"Screenshot Taken\",(50,50),cv2.FONT_HERSHEY_SIMPLEX<1,(255,255,0),2)"
   ]
  },
  {
   "cell_type": "code",
   "execution_count": 9,
   "id": "28d2330f-0833-4173-a514-31028c4224eb",
   "metadata": {},
   "outputs": [
    {
     "name": "stderr",
     "output_type": "stream",
     "text": [
      "C:\\Users\\Manish\\anaconda3\\Lib\\site-packages\\google\\protobuf\\symbol_database.py:55: UserWarning: SymbolDatabase.GetPrototype() is deprecated. Please use message_factory.GetMessageClass() instead. SymbolDatabase.GetPrototype() will be removed soon.\n",
      "  warnings.warn('SymbolDatabase.GetPrototype() is deprecated. Please '\n"
     ]
    }
   ],
   "source": [
    "def main():\n",
    "    cap = cv2.VideoCapture(0)\n",
    "    try:\n",
    "        while cap.isOpened():\n",
    "            ret, frame = cap.read()\n",
    "            if not ret:\n",
    "                break\n",
    "            frame = cv2.flip(frame,1)\n",
    "            frameRGB=cv2.cvtColor(frame,cv2.COLOR_BGR2RGB)\n",
    "            processed=hands.process(frameRGB)\n",
    "            landmarks_list=[]\n",
    "            if processed.multi_hand_landmarks:\n",
    "                hand_landmarks = processed.multi_hand_landmarks[0]\n",
    "                mpDraw.draw_landmarks(frame, hand_landmarks, mpHands.HAND_CONNECTIONS)\n",
    "                for lm in hand_landmarks.landmark:\n",
    "                    landmarks_list.append((lm.x,lm.y))\n",
    "            detect_gestures(frame,landmarks_list,processed)\n",
    "            cv2.imshow('Frame',frame)\n",
    "            if cv2.waitKey(1) & 0xFF ==ord('q'):\n",
    "                break\n",
    "    finally:\n",
    "       cap.release()\n",
    "       cv2.destroyAllWindows()\n",
    "if __name__ == '__main__':\n",
    "    main()\n",
    "            "
   ]
  },
  {
   "cell_type": "code",
   "execution_count": null,
   "id": "6dfb4491-5c23-4fc6-b526-c73f56bcefb2",
   "metadata": {},
   "outputs": [],
   "source": []
  }
 ],
 "metadata": {
  "kernelspec": {
   "display_name": "Python 3 (ipykernel)",
   "language": "python",
   "name": "python3"
  },
  "language_info": {
   "codemirror_mode": {
    "name": "ipython",
    "version": 3
   },
   "file_extension": ".py",
   "mimetype": "text/x-python",
   "name": "python",
   "nbconvert_exporter": "python",
   "pygments_lexer": "ipython3",
   "version": "3.12.4"
  }
 },
 "nbformat": 4,
 "nbformat_minor": 5
}
